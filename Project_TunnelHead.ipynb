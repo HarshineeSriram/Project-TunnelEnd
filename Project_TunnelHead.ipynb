{
 "cells": [
  {
   "cell_type": "code",
   "execution_count": 71,
   "metadata": {
    "collapsed": true,
    "deletable": true,
    "editable": true
   },
   "outputs": [],
   "source": [
    "#Importing the relevant libraries\n",
    "\n",
    "import pandas as pd\n",
    "import numpy as np\n",
    "from sklearn.ensemble import RandomForestRegressor\n",
    "from sklearn.tree import DecisionTreeRegressor\n",
    "from sklearn.preprocessing import OneHotEncoder, LabelEncoder\n",
    "from sklearn.metrics import mean_absolute_error\n",
    "from sklearn.model_selection import train_test_split\n",
    "from sklearn.svm import SVR\n",
    "from sklearn.linear_model import LinearRegression\n",
    "from sklearn.ensemble import VotingClassifier\n",
    "import matplotlib.pyplot as plt\n",
    "from sklearn import metrics\n",
    "from sklearn.metrics import accuracy_score, mean_squared_error, precision_recall_curve\n",
    "import seaborn as sns\n",
    "sns.set(style=\"ticks\", color_codes=True)"
   ]
  },
  {
   "cell_type": "code",
   "execution_count": 9,
   "metadata": {
    "collapsed": true,
    "deletable": true,
    "editable": true
   },
   "outputs": [],
   "source": [
    "#Importing the datasets\n",
    "\n",
    "suicide2005=pd.read_csv(\"2005.csv\")\n",
    "suicide2006=pd.read_csv(\"2006.csv\")\n",
    "suicide2007=pd.read_csv(\"2007.csv\")\n",
    "suicide2008=pd.read_csv(\"2008.csv\")\n",
    "suicide2009=pd.read_csv(\"2009.csv\")\n",
    "suicide2010=pd.read_csv(\"2010.csv\")\n",
    "suicide2011=pd.read_csv(\"2011.csv\")"
   ]
  },
  {
   "cell_type": "code",
   "execution_count": 10,
   "metadata": {
    "collapsed": false,
    "deletable": true,
    "editable": true
   },
   "outputs": [
    {
     "data": {
      "text/plain": [
       "Index(['Unnamed: 0', 'state', 'vet_pop', 'overall_pop_18', 'vet_pop_p',\n",
       "       'vet_suicides', 'all_suicides', 'vet_suicides_p', 'vet_males',\n",
       "       'vet_males_p', 'vet_females', 'vet_females_p', 'vet_15_24', 'vet_18_29',\n",
       "       'vet_17_34', 'vet_25_34', 'vet_30_39', 'vet_25_44', 'vet_35_44',\n",
       "       'vet_40_49', 'vet_35-54', 'vet_45_54', 'vet_50_59', 'vet_45_64',\n",
       "       'vet_55_64', 'vet_60', 'vet_65', 'vet_rate', 'civ_rate'],\n",
       "      dtype='object')"
      ]
     },
     "execution_count": 10,
     "metadata": {},
     "output_type": "execute_result"
    }
   ],
   "source": [
    "#Columns of the dataset\n",
    "\n",
    "suicide2005.columns"
   ]
  },
  {
   "cell_type": "code",
   "execution_count": 11,
   "metadata": {
    "collapsed": true,
    "deletable": true,
    "editable": true
   },
   "outputs": [],
   "source": [
    "#Concatinating the dataset\n",
    "\n",
    "frames = [suicide2005, suicide2006, suicide2007, suicide2008, suicide2009, suicide2010, suicide2011]\n",
    "bigdata = pd.concat(frames)\n",
    "bigdata.head()\n",
    "bigdata.to_csv(\"Cumulated_Data.csv\", index=False)"
   ]
  },
  {
   "cell_type": "code",
   "execution_count": 12,
   "metadata": {
    "collapsed": false,
    "deletable": true,
    "editable": true
   },
   "outputs": [
    {
     "data": {
      "text/plain": [
       "Index(['Unnamed: 0', 'state', 'vet_pop', 'overall_pop_18', 'vet_pop_p',\n",
       "       'vet_suicides', 'all_suicides', 'vet_suicides_p', 'vet_males',\n",
       "       'vet_males_p', 'vet_females', 'vet_females_p', 'vet_15_24', 'vet_18_29',\n",
       "       'vet_17_34', 'vet_25_34', 'vet_30_39', 'vet_25_44', 'vet_35_44',\n",
       "       'vet_40_49', 'vet_35-54', 'vet_45_54', 'vet_50_59', 'vet_45_64',\n",
       "       'vet_55_64', 'vet_60', 'vet_65', 'vet_rate', 'civ_rate'],\n",
       "      dtype='object')"
      ]
     },
     "execution_count": 12,
     "metadata": {},
     "output_type": "execute_result"
    }
   ],
   "source": [
    "#Columns of the concatinated dataset\n",
    "\n",
    "bigdata.columns"
   ]
  },
  {
   "cell_type": "code",
   "execution_count": 13,
   "metadata": {
    "collapsed": false,
    "deletable": true,
    "editable": true
   },
   "outputs": [
    {
     "data": {
      "text/html": [
       "<div>\n",
       "<style>\n",
       "    .dataframe thead tr:only-child th {\n",
       "        text-align: right;\n",
       "    }\n",
       "\n",
       "    .dataframe thead th {\n",
       "        text-align: left;\n",
       "    }\n",
       "\n",
       "    .dataframe tbody tr th {\n",
       "        vertical-align: top;\n",
       "    }\n",
       "</style>\n",
       "<table border=\"1\" class=\"dataframe\">\n",
       "  <thead>\n",
       "    <tr style=\"text-align: right;\">\n",
       "      <th></th>\n",
       "      <th>state</th>\n",
       "      <th>vet_pop</th>\n",
       "      <th>vet_males</th>\n",
       "      <th>vet_females</th>\n",
       "    </tr>\n",
       "  </thead>\n",
       "  <tbody>\n",
       "    <tr>\n",
       "      <th>0</th>\n",
       "      <td>Alabama</td>\n",
       "      <td>403950</td>\n",
       "      <td>NaN</td>\n",
       "      <td>NaN</td>\n",
       "    </tr>\n",
       "    <tr>\n",
       "      <th>1</th>\n",
       "      <td>Alaska</td>\n",
       "      <td>74482</td>\n",
       "      <td>22.0</td>\n",
       "      <td>2.0</td>\n",
       "    </tr>\n",
       "    <tr>\n",
       "      <th>2</th>\n",
       "      <td>Arizona</td>\n",
       "      <td>538880</td>\n",
       "      <td>NaN</td>\n",
       "      <td>NaN</td>\n",
       "    </tr>\n",
       "    <tr>\n",
       "      <th>3</th>\n",
       "      <td>Arkansas</td>\n",
       "      <td>259304</td>\n",
       "      <td>79.0</td>\n",
       "      <td>2.0</td>\n",
       "    </tr>\n",
       "    <tr>\n",
       "      <th>4</th>\n",
       "      <td>California</td>\n",
       "      <td>2193336</td>\n",
       "      <td>613.0</td>\n",
       "      <td>20.0</td>\n",
       "    </tr>\n",
       "  </tbody>\n",
       "</table>\n",
       "</div>"
      ],
      "text/plain": [
       "        state  vet_pop  vet_males  vet_females\n",
       "0     Alabama   403950        NaN          NaN\n",
       "1      Alaska    74482       22.0          2.0\n",
       "2     Arizona   538880        NaN          NaN\n",
       "3    Arkansas   259304       79.0          2.0\n",
       "4  California  2193336      613.0         20.0"
      ]
     },
     "execution_count": 13,
     "metadata": {},
     "output_type": "execute_result"
    }
   ],
   "source": [
    "#Seperating the Independant and Dependant Variables\n",
    "\n",
    "y = bigdata.vet_suicides\n",
    "feature_names = [\"state\", \"vet_pop\",\"vet_males\", \"vet_females\"]\n",
    "\n",
    "X = bigdata[feature_names]\n",
    "X.head()"
   ]
  },
  {
   "cell_type": "code",
   "execution_count": 14,
   "metadata": {
    "collapsed": false,
    "deletable": true,
    "editable": true
   },
   "outputs": [
    {
     "name": "stderr",
     "output_type": "stream",
     "text": [
      "C:\\Users\\Harshinee\\AppData\\Local\\Enthought\\Canopy\\edm\\envs\\User\\lib\\site-packages\\ipykernel\\__main__.py:4: SettingWithCopyWarning: \n",
      "A value is trying to be set on a copy of a slice from a DataFrame.\n",
      "Try using .loc[row_indexer,col_indexer] = value instead\n",
      "\n",
      "See the caveats in the documentation: http://pandas.pydata.org/pandas-docs/stable/indexing.html#indexing-view-versus-copy\n"
     ]
    },
    {
     "data": {
      "text/html": [
       "<div>\n",
       "<style>\n",
       "    .dataframe thead tr:only-child th {\n",
       "        text-align: right;\n",
       "    }\n",
       "\n",
       "    .dataframe thead th {\n",
       "        text-align: left;\n",
       "    }\n",
       "\n",
       "    .dataframe tbody tr th {\n",
       "        vertical-align: top;\n",
       "    }\n",
       "</style>\n",
       "<table border=\"1\" class=\"dataframe\">\n",
       "  <thead>\n",
       "    <tr style=\"text-align: right;\">\n",
       "      <th></th>\n",
       "      <th>state</th>\n",
       "      <th>vet_pop</th>\n",
       "      <th>vet_males</th>\n",
       "      <th>vet_females</th>\n",
       "    </tr>\n",
       "  </thead>\n",
       "  <tbody>\n",
       "    <tr>\n",
       "      <th>0</th>\n",
       "      <td>0</td>\n",
       "      <td>403950</td>\n",
       "      <td>NaN</td>\n",
       "      <td>NaN</td>\n",
       "    </tr>\n",
       "    <tr>\n",
       "      <th>1</th>\n",
       "      <td>1</td>\n",
       "      <td>74482</td>\n",
       "      <td>22.0</td>\n",
       "      <td>2.0</td>\n",
       "    </tr>\n",
       "    <tr>\n",
       "      <th>2</th>\n",
       "      <td>2</td>\n",
       "      <td>538880</td>\n",
       "      <td>NaN</td>\n",
       "      <td>NaN</td>\n",
       "    </tr>\n",
       "    <tr>\n",
       "      <th>3</th>\n",
       "      <td>3</td>\n",
       "      <td>259304</td>\n",
       "      <td>79.0</td>\n",
       "      <td>2.0</td>\n",
       "    </tr>\n",
       "    <tr>\n",
       "      <th>4</th>\n",
       "      <td>4</td>\n",
       "      <td>2193336</td>\n",
       "      <td>613.0</td>\n",
       "      <td>20.0</td>\n",
       "    </tr>\n",
       "  </tbody>\n",
       "</table>\n",
       "</div>"
      ],
      "text/plain": [
       "   state  vet_pop  vet_males  vet_females\n",
       "0      0   403950        NaN          NaN\n",
       "1      1    74482       22.0          2.0\n",
       "2      2   538880        NaN          NaN\n",
       "3      3   259304       79.0          2.0\n",
       "4      4  2193336      613.0         20.0"
      ]
     },
     "execution_count": 14,
     "metadata": {},
     "output_type": "execute_result"
    }
   ],
   "source": [
    "#Label encoding the states\n",
    "\n",
    "label_encoder = LabelEncoder()\n",
    "X['state']=label_encoder.fit_transform(X['state'])\n",
    "\n",
    "X.head()"
   ]
  },
  {
   "cell_type": "code",
   "execution_count": 15,
   "metadata": {
    "collapsed": true,
    "deletable": true,
    "editable": true
   },
   "outputs": [],
   "source": [
    "#Filling the null values with 0\n",
    "\n",
    "X = X.fillna(0)"
   ]
  },
  {
   "cell_type": "code",
   "execution_count": 16,
   "metadata": {
    "collapsed": true,
    "deletable": true,
    "editable": true
   },
   "outputs": [],
   "source": [
    "#Converting the dataset into a numpy array\n",
    "\n",
    "X=X.iloc[:,:].values\n",
    "y=np.array(y)"
   ]
  },
  {
   "cell_type": "code",
   "execution_count": 17,
   "metadata": {
    "collapsed": true,
    "deletable": true,
    "editable": true
   },
   "outputs": [],
   "source": [
    "#One-Hot-Encoding the states\n",
    "\n",
    "one_hot_encoder=OneHotEncoder(categorical_features=[0])\n",
    "\n",
    "X=one_hot_encoder.fit_transform(X).toarray()"
   ]
  },
  {
   "cell_type": "code",
   "execution_count": 18,
   "metadata": {
    "collapsed": true,
    "deletable": true,
    "editable": true
   },
   "outputs": [],
   "source": [
    "#Removing the dummy variable trap\n",
    "\n",
    "X=X[:, 1:]"
   ]
  },
  {
   "cell_type": "code",
   "execution_count": 19,
   "metadata": {
    "collapsed": true,
    "deletable": true,
    "editable": true
   },
   "outputs": [],
   "source": [
    "#Splitting the dataset into Training set and Test Set\n",
    "\n",
    "X_train, X_test, y_train, y_test=train_test_split(X, y, test_size=0.1)"
   ]
  },
  {
   "cell_type": "code",
   "execution_count": 80,
   "metadata": {
    "collapsed": false,
    "deletable": true,
    "editable": true
   },
   "outputs": [
    {
     "name": "stdout",
     "output_type": "stream",
     "text": [
      "5.84642857143\n"
     ]
    }
   ],
   "source": [
    "#Making the Random Forest model\n",
    "\n",
    "classifier = RandomForestRegressor(n_estimators=100, criterion='mae', n_jobs=-1, random_state=0)\n",
    "classifier.fit(X_train, y_train)\n",
    "preds = classifier.predict(X_test)\n",
    "print(mean_absolute_error(y_test, preds))\n",
    "\n",
    "effectiveness_of_model={}\n",
    "effectiveness_of_model['Random Forest model'] = mean_absolute_error(y_test, preds)"
   ]
  },
  {
   "cell_type": "code",
   "execution_count": 81,
   "metadata": {
    "collapsed": false,
    "deletable": true,
    "editable": true
   },
   "outputs": [
    {
     "name": "stdout",
     "output_type": "stream",
     "text": [
      "80.1785714286\n"
     ]
    }
   ],
   "source": [
    "#Making SVR model\n",
    "\n",
    "classifier_2=SVR(kernel='rbf')\n",
    "classifier_2.fit(X_train, y_train)\n",
    "preds_2=classifier_2.predict(X_test)\n",
    "print(mean_absolute_error(y_test, preds_2))\n",
    "\n",
    "effectiveness_of_model['SVR model'] = mean_absolute_error(y_test, preds_2)"
   ]
  },
  {
   "cell_type": "code",
   "execution_count": 82,
   "metadata": {
    "collapsed": false,
    "deletable": true,
    "editable": true
   },
   "outputs": [
    {
     "name": "stdout",
     "output_type": "stream",
     "text": [
      "5.05595506443\n"
     ]
    }
   ],
   "source": [
    "#Making the Linear Regression model\n",
    "\n",
    "classifier_3=LinearRegression()\n",
    "classifier_3.fit(X_train, y_train)\n",
    "preds_3=classifier_3.predict(X_test)\n",
    "print(mean_absolute_error(y_test, preds_3))\n",
    "\n",
    "effectiveness_of_model['Linear Regression model'] = mean_absolute_error(y_test, preds_3)"
   ]
  },
  {
   "cell_type": "code",
   "execution_count": 40,
   "metadata": {
    "collapsed": false,
    "deletable": true,
    "editable": true
   },
   "outputs": [],
   "source": [
    "# Calculation of confidence limits (95%)\n",
    "\n",
    "import scipy.stats as st\n",
    "\n",
    "def confidence_interval(X, c):\n",
    "    x_bar = np.mean(X)\n",
    "    z_score = st.norm.ppf(1 - ((1 - c) / 2))\n",
    "    sqrt_n = np.sqrt(len(X))\n",
    "    std_dev = np.std(X)\n",
    "    \n",
    "    delta = z_score * (std_dev / sqrt_n)\n",
    "    return np.array([x_bar - delta, x_bar + delta])\n",
    "\n",
    "\n",
    "years = range(2005, 2012)\n",
    "\n",
    "cis = []\n",
    "for year in years:\n",
    "    df = pd.read_csv(\"C:/Users/Harshinee/Desktop/Project-TunnelHead/{0}.csv\".format(year), index_col=0)\n",
    "    df = pd.DataFrame(\n",
    "        {'vet': df['vet_suicides'] / df['vet_pop'],\n",
    "         'civ': (df['all_suicides'] - df['vet_suicides']) / \n",
    "                (df['overall_pop_18'] - df['vet_pop'])}\n",
    "    )\n",
    "    cis.append({'civ': confidence_interval(df.civ, 0.95),\n",
    "                'vet': confidence_interval(df.vet, 0.95)})\n"
   ]
  },
  {
   "cell_type": "code",
   "execution_count": 41,
   "metadata": {
    "collapsed": true
   },
   "outputs": [],
   "source": [
    "civ_means = [np.mean(c['civ'])*10**6 for c in cis]\n",
    "vet_means = [np.mean(c['vet'])*10**6 for c in cis]\n",
    "\n",
    "civ_mins = [c['civ'][0]*10**6 for c in cis]\n",
    "vet_mins = [c['vet'][0]*10**6 for c in cis]\n",
    "\n",
    "civ_maxs = [c['civ'][1]*10**6 for c in cis]\n",
    "vet_maxs = [c['vet'][1]*10**6 for c in cis]"
   ]
  },
  {
   "cell_type": "code",
   "execution_count": 48,
   "metadata": {
    "collapsed": false
   },
   "outputs": [],
   "source": [
    "ind = pd.Index(range(2005, 2012))\n",
    "\n",
    "fig, axarr = plt.subplots(1, 2, figsize=(12, 4))\n",
    "plt.suptitle(\"Suicides Per Million Estimates, 2005-2011\").set_position([.5, 1.05])\n",
    "\n",
    "pd.Series(civ_means, index=ind).plot.line(color='red', ax=axarr[0])\n",
    "pd.Series(civ_mins, index=ind).plot.line(color='steelblue', ax=axarr[0])\n",
    "pd.Series(civ_maxs, index=ind).plot.line(color='green', ax=axarr[0])\n",
    "axarr[0].set_title(\"Civilians\")\n",
    "\n",
    "pd.Series(vet_means, index=ind).plot.line(color='red', ax=axarr[1])\n",
    "pd.Series(vet_mins, index=ind).plot.line(color='steelblue', ax=axarr[1])\n",
    "pd.Series(vet_maxs, index=ind).plot.line(color='green', ax=axarr[1])\n",
    "axarr[1].set_title(\"Veterans\")\n",
    "pass    "
   ]
  },
  {
   "cell_type": "code",
   "execution_count": 49,
   "metadata": {
    "collapsed": false
   },
   "outputs": [
    {
     "data": {
      "image/png": "[encoded data removed]",
      "text/plain": [
       "<matplotlib.figure.Figure at 0x21e82e9fa20>"
      ]
     },
     "metadata": {},
     "output_type": "display_data"
    }
   ],
   "source": [
    "plt.show()"
   ]
  },
  {
   "cell_type": "code",
   "execution_count": 93,
   "metadata": {
    "collapsed": false
   },
   "outputs": [
    {
     "data": {
      "image/png": "[encoded data removed]",
      "text/plain": [
       "<matplotlib.figure.Figure at 0x21e8050bb38>"
      ]
     },
     "metadata": {},
     "output_type": "display_data"
    }
   ],
   "source": [
    "plt.bar(range(len(effectiveness_of_model)), list(effectiveness_of_model.values()), align='center')\n",
    "plt.xticks(range(len(effectiveness_of_model)), list(effectiveness_of_model.keys()))\n",
    "plt.title(\"Approximate error in predictions of suicides\")\n",
    "plt.xlabel(\"Name of learning model\")\n",
    "plt.ylabel(\"Error in predictions\")\n",
    "plt.show()"
   ]
  }
 ],
 "metadata": {
  "kernelspec": {
   "display_name": "Python 3",
   "language": "python",
   "name": "python3"
  },
  "language_info": {
   "codemirror_mode": {
    "name": "ipython",
    "version": 3
   },
   "file_extension": ".py",
   "mimetype": "text/x-python",
   "name": "python",
   "nbconvert_exporter": "python",
   "pygments_lexer": "ipython3",
   "version": "3.5.2"
  }
 },
 "nbformat": 4,
 "nbformat_minor": 2
}
