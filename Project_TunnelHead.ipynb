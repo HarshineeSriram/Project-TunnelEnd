{
 "cells": [
  {
   "cell_type": "code",
   "execution_count": 122,
   "metadata": {},
   "outputs": [],
   "source": [
    "import pandas as pd\n",
    "import numpy as np\n",
    "from sklearn.tree import DecisionTreeRegressor\n",
    "from sklearn.preprocessing import OneHotEncoder\n",
    "from sklearn import preprocessing\n",
    "from sklearn.metrics import mean_absolute_error\n",
    "from sklearn.model_selection import train_test_split"
   ]
  },
  {
   "cell_type": "code",
   "execution_count": 102,
   "metadata": {},
   "outputs": [],
   "source": [
    "suicide2005=pd.read_csv(\"2005.csv\")\n",
    "suicide2006=pd.read_csv(\"2006.csv\")\n",
    "suicide2007=pd.read_csv(\"2007.csv\")\n",
    "suicide2008=pd.read_csv(\"2008.csv\")\n",
    "suicide2009=pd.read_csv(\"2009.csv\")\n",
    "suicide2010=pd.read_csv(\"2010.csv\")\n",
    "suicide2011=pd.read_csv(\"2011.csv\")"
   ]
  },
  {
   "cell_type": "code",
   "execution_count": 103,
   "metadata": {},
   "outputs": [
    {
     "data": {
      "text/plain": [
       "Index(['Unnamed: 0', 'state', 'vet_pop', 'overall_pop_18', 'vet_pop_p',\n",
       "       'vet_suicides', 'all_suicides', 'vet_suicides_p', 'vet_males',\n",
       "       'vet_males_p', 'vet_females', 'vet_females_p', 'vet_15_24', 'vet_18_29',\n",
       "       'vet_17_34', 'vet_25_34', 'vet_30_39', 'vet_25_44', 'vet_35_44',\n",
       "       'vet_40_49', 'vet_35-54', 'vet_45_54', 'vet_50_59', 'vet_45_64',\n",
       "       'vet_55_64', 'vet_60', 'vet_65', 'vet_rate', 'civ_rate'],\n",
       "      dtype='object')"
      ]
     },
     "execution_count": 103,
     "metadata": {},
     "output_type": "execute_result"
    }
   ],
   "source": [
    "suicide2007.columns"
   ]
  },
  {
   "cell_type": "code",
   "execution_count": 104,
   "metadata": {},
   "outputs": [],
   "source": [
    "frames = [suicide2005, suicide2006, suicide2007, suicide2008, suicide2009, suicide2010, suicide2011]\n",
    "bigdata = pd.concat(frames)\n",
    "bigdata.head()\n",
    "bigdata.to_csv(\"Cumulated_Data.csv\", index=False)\n"
   ]
  },
  {
   "cell_type": "code",
   "execution_count": 112,
   "metadata": {},
   "outputs": [
    {
     "name": "stdout",
     "output_type": "stream",
     "text": [
      "             state  vet_pop  vet_males  vet_females\n",
      "0          Alabama   403950        NaN          NaN\n",
      "1           Alaska    74482       22.0          2.0\n",
      "2          Arizona   538880        NaN          NaN\n",
      "3         Arkansas   259304       79.0          2.0\n",
      "4       California  2193336      613.0         20.0\n",
      "5         Colorado   402091      183.0          8.0\n",
      "6      Connecticut   261294        NaN          NaN\n",
      "7         Delaware    79151       17.0          0.0\n",
      "8         Florida*  1717801        NaN          NaN\n",
      "9          Georgia   731466        NaN          NaN\n",
      "10          Hawaii   116793        NaN          NaN\n",
      "11           Idaho   132844       63.0          2.0\n",
      "12        Illinois   853338        NaN          NaN\n",
      "13         Indiana   505259      111.0          1.0\n",
      "14            Iowa   249911        NaN          NaN\n",
      "15          Kansas   238506       82.0          4.0\n",
      "16        Kentucky   341752        NaN          NaN\n",
      "17       Louisiana   337822        NaN          NaN\n",
      "18           Maine   145352        NaN          NaN\n",
      "19        Maryland   480654        NaN          NaN\n",
      "20   Massachusetts   453249       49.0          2.0\n",
      "21        Michigan   782823      225.0          7.0\n",
      "22       Minnesota   407255      100.0          3.0\n",
      "23     Mississippi   226398       68.0          0.0\n",
      "24     Missouri***   533517      177.0          3.0\n",
      "25         Montana   100637       57.0          2.0\n",
      "26        Nebraska   154607        NaN          NaN\n",
      "27          Nevada   233633        NaN          NaN\n",
      "28   New Hampshire   129603       37.0          0.0\n",
      "29      New Jersey   546437       79.0          1.0\n",
      "..             ...      ...        ...          ...\n",
      "20   Massachusetts   386609       57.0          2.0\n",
      "21        Michigan   671051      216.0          1.0\n",
      "22       Minnesota   366790      109.0          3.0\n",
      "23     Mississippi   201148       73.0          3.0\n",
      "24     Missouri***   490162      177.0          3.0\n",
      "25         Montana    94872       53.0          2.0\n",
      "26        Nebraska   146104        NaN          NaN\n",
      "27          Nevada   228213        NaN          NaN\n",
      "28   New Hampshire   115297       33.0          0.0\n",
      "29      New Jersey   444887       89.0          3.0\n",
      "30      New Mexico   177041       78.0          5.0\n",
      "31        New York   917741      235.0          9.0\n",
      "32  North Carolina   740470      198.0         11.0\n",
      "33  North Dakota**    55556       25.0          0.0\n",
      "34            Ohio   876163      267.0          3.0\n",
      "35        Oklahoma   319724        NaN          NaN\n",
      "36          Oregon   319194      144.0          6.0\n",
      "37    Pennsylvania   954659      276.0          9.0\n",
      "38    Rhode Island    71863        NaN          NaN\n",
      "39  South Carolina   398985      150.0          8.0\n",
      "40    South Dakota    70027        NaN          NaN\n",
      "41       Tennessee   486407      189.0          1.0\n",
      "42           Texas  1593072      504.0         23.0\n",
      "43            Utah   146806       68.0          3.0\n",
      "44         Vermont    51373       17.0          1.0\n",
      "45        Virginia   734757      190.0          7.0\n",
      "46      Washington   597778      196.0         11.0\n",
      "47   West Virginia   155581       67.0          3.0\n",
      "48       Wisconsin   413735        NaN          NaN\n",
      "49         Wyoming    52415        NaN          0.0\n",
      "\n",
      "[350 rows x 4 columns]\n"
     ]
    }
   ],
   "source": [
    "Y = bigdata.vet_suicides\n",
    "feature_names = [\"state\", \"vet_pop\", \n",
    "                 \"vet_males\", \"vet_females\"]\n",
    "\n",
    "X = bigdata[feature_names]\n",
    "print(X)"
   ]
  },
  {
   "cell_type": "code",
   "execution_count": 106,
   "metadata": {},
   "outputs": [
    {
     "data": {
      "text/html": [
       "<div>\n",
       "<style scoped>\n",
       "    .dataframe tbody tr th:only-of-type {\n",
       "        vertical-align: middle;\n",
       "    }\n",
       "\n",
       "    .dataframe tbody tr th {\n",
       "        vertical-align: top;\n",
       "    }\n",
       "\n",
       "    .dataframe thead th {\n",
       "        text-align: right;\n",
       "    }\n",
       "</style>\n",
       "<table border=\"1\" class=\"dataframe\">\n",
       "  <thead>\n",
       "    <tr style=\"text-align: right;\">\n",
       "      <th></th>\n",
       "      <th>Unnamed: 0</th>\n",
       "      <th>state</th>\n",
       "      <th>vet_pop</th>\n",
       "      <th>overall_pop_18</th>\n",
       "      <th>vet_pop_p</th>\n",
       "      <th>vet_suicides</th>\n",
       "      <th>all_suicides</th>\n",
       "      <th>vet_suicides_p</th>\n",
       "      <th>vet_males</th>\n",
       "      <th>vet_males_p</th>\n",
       "      <th>...</th>\n",
       "      <th>vet_40_49</th>\n",
       "      <th>vet_35-54</th>\n",
       "      <th>vet_45_54</th>\n",
       "      <th>vet_50_59</th>\n",
       "      <th>vet_45_64</th>\n",
       "      <th>vet_55_64</th>\n",
       "      <th>vet_60</th>\n",
       "      <th>vet_65</th>\n",
       "      <th>vet_rate</th>\n",
       "      <th>civ_rate</th>\n",
       "    </tr>\n",
       "  </thead>\n",
       "  <tbody>\n",
       "    <tr>\n",
       "      <th>0</th>\n",
       "      <td>0</td>\n",
       "      <td>Alabama</td>\n",
       "      <td>403950</td>\n",
       "      <td>3344721</td>\n",
       "      <td>0.120772</td>\n",
       "      <td>135</td>\n",
       "      <td>535</td>\n",
       "      <td>0.252336</td>\n",
       "      <td>NaN</td>\n",
       "      <td>0.000000</td>\n",
       "      <td>...</td>\n",
       "      <td>NaN</td>\n",
       "      <td>NaN</td>\n",
       "      <td>NaN</td>\n",
       "      <td>NaN</td>\n",
       "      <td>NaN</td>\n",
       "      <td>NaN</td>\n",
       "      <td>NaN</td>\n",
       "      <td>NaN</td>\n",
       "      <td>33.419978</td>\n",
       "      <td>13.601875</td>\n",
       "    </tr>\n",
       "    <tr>\n",
       "      <th>1</th>\n",
       "      <td>1</td>\n",
       "      <td>Alaska</td>\n",
       "      <td>74482</td>\n",
       "      <td>446969</td>\n",
       "      <td>0.166638</td>\n",
       "      <td>24</td>\n",
       "      <td>131</td>\n",
       "      <td>0.183206</td>\n",
       "      <td>22.0</td>\n",
       "      <td>0.916667</td>\n",
       "      <td>...</td>\n",
       "      <td>NaN</td>\n",
       "      <td>NaN</td>\n",
       "      <td>9.0</td>\n",
       "      <td>NaN</td>\n",
       "      <td>NaN</td>\n",
       "      <td>5.0</td>\n",
       "      <td>NaN</td>\n",
       "      <td>4.0</td>\n",
       "      <td>32.222550</td>\n",
       "      <td>28.725835</td>\n",
       "    </tr>\n",
       "    <tr>\n",
       "      <th>2</th>\n",
       "      <td>2</td>\n",
       "      <td>Arizona</td>\n",
       "      <td>538880</td>\n",
       "      <td>4238996</td>\n",
       "      <td>0.127124</td>\n",
       "      <td>225</td>\n",
       "      <td>945</td>\n",
       "      <td>0.238095</td>\n",
       "      <td>NaN</td>\n",
       "      <td>0.000000</td>\n",
       "      <td>...</td>\n",
       "      <td>NaN</td>\n",
       "      <td>NaN</td>\n",
       "      <td>NaN</td>\n",
       "      <td>NaN</td>\n",
       "      <td>NaN</td>\n",
       "      <td>NaN</td>\n",
       "      <td>NaN</td>\n",
       "      <td>NaN</td>\n",
       "      <td>41.753266</td>\n",
       "      <td>19.458849</td>\n",
       "    </tr>\n",
       "    <tr>\n",
       "      <th>3</th>\n",
       "      <td>3</td>\n",
       "      <td>Arkansas</td>\n",
       "      <td>259304</td>\n",
       "      <td>2023819</td>\n",
       "      <td>0.128126</td>\n",
       "      <td>81</td>\n",
       "      <td>400</td>\n",
       "      <td>0.202500</td>\n",
       "      <td>79.0</td>\n",
       "      <td>0.975309</td>\n",
       "      <td>...</td>\n",
       "      <td>NaN</td>\n",
       "      <td>NaN</td>\n",
       "      <td>NaN</td>\n",
       "      <td>NaN</td>\n",
       "      <td>NaN</td>\n",
       "      <td>16.0</td>\n",
       "      <td>NaN</td>\n",
       "      <td>25.0</td>\n",
       "      <td>31.237466</td>\n",
       "      <td>18.078622</td>\n",
       "    </tr>\n",
       "    <tr>\n",
       "      <th>4</th>\n",
       "      <td>4</td>\n",
       "      <td>California</td>\n",
       "      <td>2193336</td>\n",
       "      <td>25543447</td>\n",
       "      <td>0.085867</td>\n",
       "      <td>633</td>\n",
       "      <td>3206</td>\n",
       "      <td>0.197442</td>\n",
       "      <td>613.0</td>\n",
       "      <td>0.968404</td>\n",
       "      <td>...</td>\n",
       "      <td>NaN</td>\n",
       "      <td>NaN</td>\n",
       "      <td>NaN</td>\n",
       "      <td>NaN</td>\n",
       "      <td>220.0</td>\n",
       "      <td>NaN</td>\n",
       "      <td>NaN</td>\n",
       "      <td>317.0</td>\n",
       "      <td>28.860147</td>\n",
       "      <td>11.019220</td>\n",
       "    </tr>\n",
       "  </tbody>\n",
       "</table>\n",
       "<p>5 rows × 29 columns</p>\n",
       "</div>"
      ],
      "text/plain": [
       "   Unnamed: 0       state  vet_pop  overall_pop_18  vet_pop_p  vet_suicides  \\\n",
       "0           0     Alabama   403950         3344721   0.120772           135   \n",
       "1           1      Alaska    74482          446969   0.166638            24   \n",
       "2           2     Arizona   538880         4238996   0.127124           225   \n",
       "3           3    Arkansas   259304         2023819   0.128126            81   \n",
       "4           4  California  2193336        25543447   0.085867           633   \n",
       "\n",
       "   all_suicides  vet_suicides_p  vet_males  vet_males_p    ...      vet_40_49  \\\n",
       "0           535        0.252336        NaN     0.000000    ...            NaN   \n",
       "1           131        0.183206       22.0     0.916667    ...            NaN   \n",
       "2           945        0.238095        NaN     0.000000    ...            NaN   \n",
       "3           400        0.202500       79.0     0.975309    ...            NaN   \n",
       "4          3206        0.197442      613.0     0.968404    ...            NaN   \n",
       "\n",
       "   vet_35-54  vet_45_54  vet_50_59  vet_45_64  vet_55_64  vet_60  vet_65  \\\n",
       "0        NaN        NaN        NaN        NaN        NaN     NaN     NaN   \n",
       "1        NaN        9.0        NaN        NaN        5.0     NaN     4.0   \n",
       "2        NaN        NaN        NaN        NaN        NaN     NaN     NaN   \n",
       "3        NaN        NaN        NaN        NaN       16.0     NaN    25.0   \n",
       "4        NaN        NaN        NaN      220.0        NaN     NaN   317.0   \n",
       "\n",
       "    vet_rate   civ_rate  \n",
       "0  33.419978  13.601875  \n",
       "1  32.222550  28.725835  \n",
       "2  41.753266  19.458849  \n",
       "3  31.237466  18.078622  \n",
       "4  28.860147  11.019220  \n",
       "\n",
       "[5 rows x 29 columns]"
      ]
     },
     "execution_count": 106,
     "metadata": {},
     "output_type": "execute_result"
    }
   ],
   "source": [
    "bigdata.head()"
   ]
  },
  {
   "cell_type": "code",
   "execution_count": 114,
   "metadata": {},
   "outputs": [
    {
     "data": {
      "text/html": [
       "<div>\n",
       "<style scoped>\n",
       "    .dataframe tbody tr th:only-of-type {\n",
       "        vertical-align: middle;\n",
       "    }\n",
       "\n",
       "    .dataframe tbody tr th {\n",
       "        vertical-align: top;\n",
       "    }\n",
       "\n",
       "    .dataframe thead th {\n",
       "        text-align: right;\n",
       "    }\n",
       "</style>\n",
       "<table border=\"1\" class=\"dataframe\">\n",
       "  <thead>\n",
       "    <tr style=\"text-align: right;\">\n",
       "      <th></th>\n",
       "      <th>state</th>\n",
       "      <th>vet_pop</th>\n",
       "      <th>vet_males</th>\n",
       "      <th>vet_females</th>\n",
       "    </tr>\n",
       "  </thead>\n",
       "  <tbody>\n",
       "    <tr>\n",
       "      <th>0</th>\n",
       "      <td>0</td>\n",
       "      <td>201</td>\n",
       "      <td>182</td>\n",
       "      <td>149</td>\n",
       "    </tr>\n",
       "    <tr>\n",
       "      <th>1</th>\n",
       "      <td>1</td>\n",
       "      <td>35</td>\n",
       "      <td>9</td>\n",
       "      <td>2</td>\n",
       "    </tr>\n",
       "    <tr>\n",
       "      <th>2</th>\n",
       "      <td>2</td>\n",
       "      <td>261</td>\n",
       "      <td>208</td>\n",
       "      <td>19</td>\n",
       "    </tr>\n",
       "    <tr>\n",
       "      <th>3</th>\n",
       "      <td>3</td>\n",
       "      <td>151</td>\n",
       "      <td>48</td>\n",
       "      <td>2</td>\n",
       "    </tr>\n",
       "    <tr>\n",
       "      <th>4</th>\n",
       "      <td>4</td>\n",
       "      <td>349</td>\n",
       "      <td>140</td>\n",
       "      <td>15</td>\n",
       "    </tr>\n",
       "  </tbody>\n",
       "</table>\n",
       "</div>"
      ],
      "text/plain": [
       "   state  vet_pop  vet_males  vet_females\n",
       "0      0      201        182          149\n",
       "1      1       35          9            2\n",
       "2      2      261        208           19\n",
       "3      3      151         48            2\n",
       "4      4      349        140           15"
      ]
     },
     "execution_count": 114,
     "metadata": {},
     "output_type": "execute_result"
    }
   ],
   "source": [
    "label_encoder = preprocessing.LabelEncoder()\n",
    "X = X.apply(label_encoder.fit_transform)\n",
    "X.head()"
   ]
  },
  {
   "cell_type": "code",
   "execution_count": 115,
   "metadata": {},
   "outputs": [],
   "source": [
    "X = X.fillna(0)\n",
    "one_hot_encoded_training_parameters = pd.get_dummies(X)"
   ]
  },
  {
   "cell_type": "code",
   "execution_count": 116,
   "metadata": {},
   "outputs": [
    {
     "name": "stdout",
     "output_type": "stream",
     "text": [
      "    state  vet_pop  vet_males  vet_females\n",
      "0       0      201        182          149\n",
      "1       1       35          9            2\n",
      "2       2      261        208           19\n",
      "3       3      151         48            2\n",
      "4       4      349        140           15\n",
      "5       5      200         91            8\n",
      "6       6      153        209           29\n",
      "7       7       43          7            0\n",
      "8       8      341        210           22\n",
      "9       9      288        211           21\n",
      "10     10       62        212           61\n",
      "11     11       77         37            2\n",
      "12     12      307        213           35\n",
      "13     13      249         64            1\n",
      "14     14      146        214           57\n",
      "15     15      139         51            4\n",
      "16     16      176        215           56\n",
      "17     17      173        216           55\n",
      "18     18       85        217           53\n",
      "19     19      236        218           52\n",
      "20     20      227         28            2\n",
      "21     21      304        114            7\n",
      "22     22      204         60            3\n",
      "23     23      125         40            0\n",
      "24     24      259         86            3\n",
      "25     25       53         34            2\n",
      "26     26       95        219           62\n",
      "27     27      134        220           38\n",
      "28     28       73         22            0\n",
      "29     29      262         48            1\n",
      "..    ...      ...        ...          ...\n",
      "20     20      186         34            2\n",
      "21     21      273        109            1\n",
      "22     22      182         63            3\n",
      "23     23      112         42            3\n",
      "24     24      241         86            3\n",
      "25     25       49         30            2\n",
      "26     26       86        150           58\n",
      "27     27      128        152           59\n",
      "28     28       61         19            0\n",
      "29     29      223         55            3\n",
      "30     30      107         47            5\n",
      "31     31      311        117            9\n",
      "32     32      292        101           11\n",
      "33     33       17         12            0\n",
      "34     34      308        124            3\n",
      "35     35      165        159           32\n",
      "36     36      163         74            6\n",
      "37     37      315        126            9\n",
      "38     38       30        148           33\n",
      "39     39      196         79            8\n",
      "40     40       25        160           28\n",
      "41     41      239         94            1\n",
      "42     42      332        138           17\n",
      "43     43       88         40            3\n",
      "44     44        3          7            1\n",
      "45     45      291         95            7\n",
      "46     46      268         99           11\n",
      "47     47       98         39            3\n",
      "48     48      209        276           76\n",
      "49     49        9        279            0\n",
      "\n",
      "[350 rows x 4 columns]\n"
     ]
    }
   ],
   "source": [
    "print(X)"
   ]
  },
  {
   "cell_type": "code",
   "execution_count": 117,
   "metadata": {},
   "outputs": [
    {
     "data": {
      "text/plain": [
       "state          False\n",
       "vet_pop        False\n",
       "vet_males      False\n",
       "vet_females    False\n",
       "dtype: bool"
      ]
     },
     "execution_count": 117,
     "metadata": {},
     "output_type": "execute_result"
    }
   ],
   "source": [
    "X.isnull().any()"
   ]
  },
  {
   "cell_type": "code",
   "execution_count": 118,
   "metadata": {
    "scrolled": true
   },
   "outputs": [
    {
     "data": {
      "text/plain": [
       "DecisionTreeRegressor(criterion='mse', max_depth=None, max_features=None,\n",
       "           max_leaf_nodes=None, min_impurity_decrease=0.0,\n",
       "           min_impurity_split=None, min_samples_leaf=1,\n",
       "           min_samples_split=2, min_weight_fraction_leaf=0.0,\n",
       "           presort=False, random_state=1, splitter='best')"
      ]
     },
     "execution_count": 118,
     "metadata": {},
     "output_type": "execute_result"
    }
   ],
   "source": [
    "suicide_model = DecisionTreeRegressor(random_state=1)\n",
    "suicide_model.fit(X,Y)"
   ]
  },
  {
   "cell_type": "code",
   "execution_count": 119,
   "metadata": {},
   "outputs": [
    {
     "name": "stdout",
     "output_type": "stream",
     "text": [
      "[135.  24. 225.  81. 633. 191.  52.  17. 540. 182.  15.  65. 219. 112.\n",
      "  70.  86.  44. 101.  49. 105.  51. 232. 103.  68. 180.  59.  18. 106.\n",
      "  37.  80.  80. 208. 225.  24. 282. 109. 154. 336.  15.  96.  29. 183.\n",
      " 509.  49.  10. 206. 225.  73. 136.  17. 145.  29. 225.  90. 665. 148.\n",
      "  44.  16. 562.  97.  21.  53. 186. 108.  63.  94.  34.  81.  43.  91.\n",
      "  30. 258. 113.  65. 180.  54.   5. 107.  33.  93.  76. 216. 200.  18.\n",
      " 251. 113. 143. 309.  21. 118.  26. 150. 454.  63.  16. 178. 200.  56.\n",
      " 138.  22. 130.  30. 224.  84. 655. 196.  39.  15. 595. 211.  21.  48.\n",
      " 183. 101.  63.  88.  44.  91.  39.  76.  50. 230. 125.  83. 180.  53.\n",
      "  15. 104.  42.  80.  96. 205. 229.  27. 275. 112. 157. 324.  16. 123.\n",
      "  21. 182. 434.  68.  19. 178. 229.  67. 128.  27. 138.  27. 233.  96.\n",
      " 727. 188.  46.  23. 631. 192.  20.  75. 229. 184.  74.  74.  51.  97.\n",
      "  44.  92.  48. 224. 110.  81. 180.  50.  21. 131.  36.  77.  80. 224.\n",
      " 238.  14. 264. 145. 140. 333.  16. 137.  20. 176. 454.  55.  15. 203.\n",
      " 238.  58. 131.  30. 178.  34. 228.  89. 723. 211.  31.  17. 658. 244.\n",
      "  25.  66. 199. 150.  71.  93. 104.  92.  45.  97.  48. 232. 106.  77.\n",
      " 180.  48.  30. 118.  28.  81.  85. 192. 249.  14. 243. 122. 145. 292.\n",
      "  22. 143.  33. 196. 492.  79.   7. 198. 249.  66. 134.  18. 156.  35.\n",
      " 240. 105. 705. 156.  52.  14. 642. 175.  31.  70. 200. 165.  71.  81.\n",
      " 104. 125.  46.  85.  75. 212.  91.  76. 180.  68.  21. 124.  41.  94.\n",
      "  82. 214. 222.  24. 268. 131. 151. 285.  20. 132.  21. 155. 535.  75.\n",
      "  15. 188. 222.  72. 169.  29. 163.  27. 242.  89. 706. 170.  54.  17.\n",
      " 642. 218.  27.  68. 191. 164.  83.  72. 124. 106.  30.  90.  59. 217.\n",
      " 112.  76. 180.  55.  34. 122.  33.  92.  83. 244. 207.  25. 270. 141.\n",
      " 150. 285.  18. 158.  25. 190. 527.  71.  18. 197. 207.  70. 167.  30.]\n"
     ]
    }
   ],
   "source": [
    "predictions = suicide_model.predict(X)\n",
    "print(predictions)"
   ]
  },
  {
   "cell_type": "code",
   "execution_count": 121,
   "metadata": {},
   "outputs": [
    {
     "data": {
      "text/plain": [
       "0.0"
      ]
     },
     "execution_count": 121,
     "metadata": {},
     "output_type": "execute_result"
    }
   ],
   "source": [
    "predicted_suicide_rates = suicide_model.predict(X)\n",
    "mean_absolute_error(Y, predicted_suicide_rates)"
   ]
  },
  {
   "cell_type": "code",
   "execution_count": 124,
   "metadata": {},
   "outputs": [
    {
     "name": "stdout",
     "output_type": "stream",
     "text": [
      "11.704545454545455\n"
     ]
    }
   ],
   "source": [
    "train_X, val_X, train_Y, val_Y = train_test_split(X,Y,random_state=0)\n",
    "suicide_model.fit(train_X, train_Y)\n",
    "value_of_predictions = suicide_model.predict(val_X)\n",
    "print(mean_absolute_error(val_Y, value_of_predictions))"
   ]
  },
  {
   "cell_type": "code",
   "execution_count": null,
   "metadata": {},
   "outputs": [],
   "source": []
  }
 ],
 "metadata": {
  "kernelspec": {
   "display_name": "Python 3",
   "language": "python",
   "name": "python3"
  },
  "language_info": {
   "codemirror_mode": {
    "name": "ipython",
    "version": 3
   },
   "file_extension": ".py",
   "mimetype": "text/x-python",
   "name": "python",
   "nbconvert_exporter": "python",
   "pygments_lexer": "ipython3",
   "version": "3.6.6"
  }
 },
 "nbformat": 4,
 "nbformat_minor": 2
}
